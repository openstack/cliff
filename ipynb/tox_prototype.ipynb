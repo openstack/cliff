{
 "cells": [
  {
   "cell_type": "markdown",
   "metadata": {},
   "source": [
    "---\n",
    "\n",
    "## [`tox.ini`](../tox.ini)\n",
    "\n",
    "OK, if everything in the above testing is 'good' then your ready to run a full tox matrix.\n",
    "\n",
    ">Note: The full `tox` matrix can take alot of time so only run this when you are ready to push changes to the repository."
   ]
  },
  {
   "cell_type": "code",
   "execution_count": 1,
   "metadata": {},
   "outputs": [],
   "source": [
    "ready_to_recreate_and_run_tox = False  # set to True when your ready\n",
    "if ready_to_recreate_and_run_tox:\n",
    "    # force recreation of virtual environments (-r or --recreate)\n",
    "    ! cd .. && sudo tox -r > tox_run_r.md"
   ]
  },
  {
   "cell_type": "code",
   "execution_count": 3,
   "metadata": {},
   "outputs": [],
   "source": [
    "ready_to_run_tox = True  # set to True when your ready\n",
    "if ready_to_run_tox:\n",
    "    # use existing virtual environment (only build if not present)\n",
    "    ! cd .. && sudo tox > tox_run.md"
   ]
  },
  {
   "cell_type": "markdown",
   "metadata": {},
   "source": [
    "---"
   ]
  }
 ],
 "metadata": {
  "interpreter": {
   "hash": "949777d72b0d2535278d3dc13498b2535136f6dfe0678499012e853ee9abcab1"
  },
  "kernelspec": {
   "display_name": "Python 3.10.2 64-bit",
   "language": "python",
   "name": "python3"
  },
  "language_info": {
   "codemirror_mode": {
    "name": "ipython",
    "version": 3
   },
   "file_extension": ".py",
   "mimetype": "text/x-python",
   "name": "python",
   "nbconvert_exporter": "python",
   "pygments_lexer": "ipython3",
   "version": "3.10.2"
  },
  "orig_nbformat": 4
 },
 "nbformat": 4,
 "nbformat_minor": 2
}
